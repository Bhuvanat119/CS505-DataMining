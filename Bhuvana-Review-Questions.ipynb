{
 "cells": [
  {
   "cell_type": "markdown",
   "id": "a0d4fd7e-4f4d-4bed-8696-a0540bf98d5c",
   "metadata": {},
   "source": [
    "## 1. Define the following metrics and perform the following operations:\n",
    "i) Write a Python program using Python Lists ii) Write a Python program using NumPy\n",
    "Matrices:\n",
    "● Matrix A: [[ 3.7827, 3.3454, 3.2341 ], [ 2.2122, 3.5678, 3.9087 ], [1.1234, 2.8934, 5.9087]]\n",
    "● Matrix B: [[ 3.1234, 3.0987, 3.1234 ], [ 2.1111, 3.2222, 3.3333 ], [1.0987, 1.3456, 5.1234]]\n",
    "● Matrix C: [[ 3.1243, 3.0989, 3.1256 ], [ 2.6721, 3.6785, 3.9017 ], [1.1254, 2.8956, 5.9187]]"
   ]
  },
  {
   "cell_type": "markdown",
   "id": "d80bfb2a-0cd2-4df7-8369-66b923b5820c",
   "metadata": {},
   "source": [
    "## i): Write a Python program using Python Lists\n",
    "In this approach, an empty matrix matrix_c is initialized with zeros, and then a nested loop is used to perform element-wise addition of matrix_a and matrix_b.\n",
    "The results are stored in matrix_c."
   ]
  },
  {
   "cell_type": "code",
   "execution_count": 5,
   "id": "705f1734-da05-4757-b741-bd9da034fc37",
   "metadata": {},
   "outputs": [
    {
     "name": "stdout",
     "output_type": "stream",
     "text": [
      "Matrix C (A + B):\n",
      "[6.9061, 6.444100000000001, 6.3575]\n",
      "[4.3233, 6.79, 7.242]\n",
      "[2.2221, 4.239, 11.0321]\n"
     ]
    }
   ],
   "source": [
    "# Defining Matrix A, B\n",
    "matrix_a = [\n",
    "    [3.7827, 3.3454, 3.2341],\n",
    "    [2.2122, 3.5678, 3.9087],\n",
    "    [1.1234, 2.8934, 5.9087]\n",
    "]\n",
    "matrix_b = [\n",
    "    [3.1234, 3.0987, 3.1234],\n",
    "    [2.1111, 3.2222, 3.3333],\n",
    "    [1.0987, 1.3456, 5.1234]\n",
    "]\n",
    "\n",
    "# Define matrix_c as an empty matrix with the same dimensions as matrix_a and matrix_b\n",
    "matrix_c = [[0, 0, 0], [0, 0, 0], [0, 0, 0]]\n",
    "\n",
    "# Perform element-wise addition\n",
    "for i in range(len(matrix_a)):  # iterate over rows\n",
    "    for j in range(len(matrix_a[0])):  # iterate over columns\n",
    "        matrix_c[i][j] = matrix_a[i][j] + matrix_b[i][j]\n",
    "\n",
    "# Display the result\n",
    "print(\"Matrix C (A + B):\")\n",
    "for row in matrix_c:\n",
    "    print(row)  # Corrected indentation\n"
   ]
  },
  {
   "cell_type": "markdown",
   "id": "5a791281-445c-4ddf-aad8-aeaca2f46335",
   "metadata": {},
   "source": [
    "## ii): Write a Python program using NumPy\n",
    "Using the NumPy's built-in np.add() function to perform matrix addition."
   ]
  },
  {
   "cell_type": "code",
   "execution_count": 7,
   "id": "11ca7bb0-23dc-4108-812f-87b647a55bd4",
   "metadata": {},
   "outputs": [
    {
     "name": "stdout",
     "output_type": "stream",
     "text": [
      "Matrix C (A + B):\n",
      "[[ 6.9061  6.4441  6.3575]\n",
      " [ 4.3233  6.79    7.242 ]\n",
      " [ 2.2221  4.239  11.0321]]\n"
     ]
    }
   ],
   "source": [
    "import numpy as np\n",
    "# Defining Matrix A and B using np.array\n",
    "matrix_a = np.array([\n",
    "    [3.7827, 3.3454, 3.2341],\n",
    "    [2.2122, 3.5678, 3.9087],\n",
    "    [1.1234, 2.8934, 5.9087]\n",
    "])\n",
    "matrix_b = np.array([\n",
    "    [3.1234, 3.0987, 3.1234],\n",
    "    [2.1111, 3.2222, 3.3333],\n",
    "    [1.0987, 1.3456, 5.1234]\n",
    "])\n",
    "# Perform matrix addition\n",
    "matrix_c = np.add(matrix_a, matrix_b)\n",
    "# Display the result\n",
    "print(\"Matrix C (A + B):\")\n",
    "print(matrix_c)"
   ]
  },
  {
   "cell_type": "markdown",
   "id": "5d200469-ae8f-4a99-982e-29cea9ca891d",
   "metadata": {},
   "source": [
    "## 2. Write a Python Program and perform the following operations:\n",
    "I. Create a List {1225, 4986, 6789, 7890, 2345, 6783, 0987, 1234, 8765, 3456} II. Iterate using a for loop\n",
    "III. Iterate using a for loop and range\n",
    "IV. List Comprehension\n",
    "V. Enumerate\n",
    "VI. Iter function and next function VII. Map function\n",
    "VIII. Using zip\n",
    "IX. Using NumPy Module\n",
    "I: Create a List\n",
    "Code:\n",
    "Here, the list is created using the list() constructor, which converts a tuple into a list"
   ]
  },
  {
   "cell_type": "markdown",
   "id": "3c7cb1c5-388c-4a29-90c3-b12e582a6d92",
   "metadata": {},
   "source": [
    "## I. Create a List {1225, 4986, 6789, 7890, 2345, 6783, 0987, 1234, 8765, 3456} II. Iterate using a for loop"
   ]
  },
  {
   "cell_type": "code",
   "execution_count": 10,
   "id": "999ccd2f-c98e-4fd1-81b4-3e9a6111bcf7",
   "metadata": {},
   "outputs": [
    {
     "name": "stdout",
     "output_type": "stream",
     "text": [
      "List: [1225, 4986, 6789, 7890, 2345, 6783, 987, 1234, 8765, 3456]\n"
     ]
    }
   ],
   "source": [
    "#List creation using a list constructor\n",
    "my_list = list((1225, 4986, 6789, 7890, 2345, 6783, 987, 1234, 8765,\n",
    "3456))\n",
    "print(\"List:\", my_list)"
   ]
  },
  {
   "cell_type": "markdown",
   "id": "ff7bb1ab-d0af-43c0-9f31-7991d994191d",
   "metadata": {},
   "source": [
    "## II: Iterate using a for loop\n",
    "Using a traditional for loop, a list comprehension is used here to iterate through the list and print each element."
   ]
  },
  {
   "cell_type": "code",
   "execution_count": 12,
   "id": "5da31378-4e19-42d8-8a57-14b1671eb78c",
   "metadata": {},
   "outputs": [
    {
     "name": "stdout",
     "output_type": "stream",
     "text": [
      "1225\n",
      "4986\n",
      "6789\n",
      "7890\n",
      "2345\n",
      "6783\n",
      "987\n",
      "1234\n",
      "8765\n",
      "3456\n"
     ]
    },
    {
     "data": {
      "text/plain": [
       "[None, None, None, None, None, None, None, None, None, None]"
      ]
     },
     "execution_count": 12,
     "metadata": {},
     "output_type": "execute_result"
    }
   ],
   "source": [
    "# Using a list comprehension for iteration and printing\n",
    "[print(item) for item in my_list]"
   ]
  },
  {
   "cell_type": "markdown",
   "id": "b20e6103-abdd-4836-8273-86cbe7c01e0f",
   "metadata": {},
   "source": [
    "## III: Iterate using a for loop and range\n",
    "This code loops each element is accessed using range(len(my_list)) along with an index to print a more detailed message that includes the index of the element."
   ]
  },
  {
   "cell_type": "code",
   "execution_count": 14,
   "id": "ac7966ed-060a-4e21-b6ec-9161fe5671e7",
   "metadata": {},
   "outputs": [
    {
     "name": "stdout",
     "output_type": "stream",
     "text": [
      "Element at index 0 is 1225\n",
      "Element at index 1 is 4986\n",
      "Element at index 2 is 6789\n",
      "Element at index 3 is 7890\n",
      "Element at index 4 is 2345\n",
      "Element at index 5 is 6783\n",
      "Element at index 6 is 987\n",
      "Element at index 7 is 1234\n",
      "Element at index 8 is 8765\n",
      "Element at index 9 is 3456\n"
     ]
    }
   ],
   "source": [
    "# Using enumerate with for loop and range for printing\n",
    "for i in range(len(my_list)):\n",
    "    print(f\"Element at index {i} is {my_list[i]}\")"
   ]
  },
  {
   "cell_type": "markdown",
   "id": "eea9c00d-fc8d-43d6-bfd6-46249b2324e8",
   "metadata": {},
   "source": [
    "## IV: List Comprehension\n",
    "This code creates a new list where 100 is subtracted from each element of my_list.\n",
    "It shows how list comprehensions can be used for more than just basic operations like squaring."
   ]
  },
  {
   "cell_type": "code",
   "execution_count": 16,
   "id": "f951c747-f603-48d9-ab27-ca2fb4f25626",
   "metadata": {},
   "outputs": [
    {
     "name": "stdout",
     "output_type": "stream",
     "text": [
      "Modified List (subtracting 100): [1125, 4886, 6689, 7790, 2245, 6683, 887, 1134, 8665, 3356]\n"
     ]
    }
   ],
   "source": [
    "# Create a new list by subtracting a constant from each element\n",
    "modified_list = [x - 100 for x in my_list]\n",
    "print(\"Modified List (subtracting 100):\", modified_list)"
   ]
  },
  {
   "cell_type": "markdown",
   "id": "387e8c76-fcb8-4853-81ae-1bc3878eaeb8",
   "metadata": {},
   "source": [
    "## V: Enumerate\n",
    "This enumerate code is combined with a condition to print only elements at even indices, demonstrating the versatility of enumerate in iteration."
   ]
  },
  {
   "cell_type": "code",
   "execution_count": 18,
   "id": "9a198397-c619-4173-a7be-54948c93e585",
   "metadata": {},
   "outputs": [
    {
     "name": "stdout",
     "output_type": "stream",
     "text": [
      "Index 0: 1225 (even index)\n",
      "Index 2: 6789 (even index)\n",
      "Index 4: 2345 (even index)\n",
      "Index 6: 987 (even index)\n",
      "Index 8: 8765 (even index)\n"
     ]
    }
   ],
   "source": [
    "# Using enumerate with condition to print only even indices\n",
    "for index, item in enumerate(my_list):\n",
    "    if index % 2 == 0:\n",
    "        print(f\"Index {index}: {item} (even index)\")"
   ]
  },
  {
   "cell_type": "markdown",
   "id": "1af0f982-2e47-4cfd-8afe-1e6f9bd89e66",
   "metadata": {},
   "source": [
    "## VI: Iter function and next function\n",
    "This code uses an infinite loop with next() to fetch elements from the iterator until StopIteration is raised, and how iteration can be controlled manually."
   ]
  },
  {
   "cell_type": "code",
   "execution_count": 20,
   "id": "111cb251-885b-4420-86df-1babe35b90ae",
   "metadata": {},
   "outputs": [
    {
     "name": "stdout",
     "output_type": "stream",
     "text": [
      "1225\n",
      "4986\n",
      "6789\n",
      "7890\n",
      "2345\n",
      "6783\n",
      "987\n",
      "1234\n",
      "8765\n",
      "3456\n",
      "End of list reached.\n"
     ]
    }
   ],
   "source": [
    "list_iter = iter(my_list)\n",
    "try:\n",
    "    while True:\n",
    "        # Keep fetching elements until StopIteration is raised\n",
    "        print(next(list_iter))  # Corrected indentation\n",
    "except StopIteration:\n",
    "    print(\"End of list reached.\")\n"
   ]
  },
  {
   "cell_type": "markdown",
   "id": "9d0db178-ed20-46f6-83c0-037eb79786c4",
   "metadata": {},
   "source": [
    "## VII: Map function\n",
    "This code squares each element in the list instead of doubling them."
   ]
  },
  {
   "cell_type": "code",
   "execution_count": 22,
   "id": "b5d044dc-e8e1-42e4-a688-391bd0c26af7",
   "metadata": {},
   "outputs": [
    {
     "name": "stdout",
     "output_type": "stream",
     "text": [
      "Squared List: [1500625, 24860196, 46090521, 62252100, 5499025, 46009089, 974169, 1522756, 76825225, 11943936]\n"
     ]
    }
   ],
   "source": [
    "# Map function with squaring each element\n",
    "squared_list = list(map(lambda x: x**2, my_list))\n",
    "print(\"Squared List:\", squared_list)"
   ]
  },
  {
   "cell_type": "markdown",
   "id": "57dbd6fe-0cde-4d30-bcd7-da578a7f18e7",
   "metadata": {},
   "source": [
    "## VIII: Using zip\n",
    "Taking the two lists list1 and list2 are of different lengths.\n",
    "zip truncates the result to the length of the shorter list."
   ]
  },
  {
   "cell_type": "code",
   "execution_count": 24,
   "id": "629bcbfe-c6d1-4ede-90b2-2bf5ce19b99e",
   "metadata": {},
   "outputs": [
    {
     "name": "stdout",
     "output_type": "stream",
     "text": [
      "Zipped List: [(1, 4), (2, 5), (3, 6)]\n"
     ]
    }
   ],
   "source": [
    "list1 = [1, 2, 3]\n",
    "list2 = [4, 5, 6, 7]\n",
    "zipped_list = list(zip(list1, list2))\n",
    "print(\"Zipped List:\", zipped_list)"
   ]
  },
  {
   "cell_type": "markdown",
   "id": "5a0b37a5-93b0-406a-9cf0-495ce5579fef",
   "metadata": {},
   "source": [
    "## IX: Using NumPy Module\n",
    "This code doubles each element using NumPy’s array operations."
   ]
  },
  {
   "cell_type": "code",
   "execution_count": 26,
   "id": "cc843224-1ef7-4786-ac44-90e865311b2d",
   "metadata": {},
   "outputs": [
    {
     "name": "stdout",
     "output_type": "stream",
     "text": [
      "Doubled NumPy Array: [ 2450  9972 13578 15780  4690 13566  1974  2468 17530  6912]\n"
     ]
    }
   ],
   "source": [
    "import numpy as np\n",
    "np_array = np.array(my_list) * 2  # Doubling each element using NumPy\n",
    "print(\"Doubled NumPy Array:\", np_array)"
   ]
  },
  {
   "cell_type": "markdown",
   "id": "fe34b4fd-f6bb-4862-8c80-52d1fe45fca1",
   "metadata": {},
   "source": [
    "## 3. For a List A, B, C, D, E write a Python program to compute all the combinations and permutations\n",
    "This code generates permutations of length 3 and combinations of length 4, demonstrating how the length parameter can be adjusted to customize the output."
   ]
  },
  {
   "cell_type": "code",
   "execution_count": 28,
   "id": "32f28c1d-6870-4edd-aa3c-31e33a4fcd91",
   "metadata": {},
   "outputs": [
    {
     "name": "stdout",
     "output_type": "stream",
     "text": [
      "Permutations (Length 3):\n",
      "('A', 'B', 'C')\n",
      "('A', 'B', 'D')\n",
      "('A', 'B', 'E')\n",
      "('A', 'C', 'B')\n",
      "('A', 'C', 'D')\n",
      "('A', 'C', 'E')\n",
      "('A', 'D', 'B')\n",
      "('A', 'D', 'C')\n",
      "('A', 'D', 'E')\n",
      "('A', 'E', 'B')\n",
      "('A', 'E', 'C')\n",
      "('A', 'E', 'D')\n",
      "('B', 'A', 'C')\n",
      "('B', 'A', 'D')\n",
      "('B', 'A', 'E')\n",
      "('B', 'C', 'A')\n",
      "('B', 'C', 'D')\n",
      "('B', 'C', 'E')\n",
      "('B', 'D', 'A')\n",
      "('B', 'D', 'C')\n",
      "('B', 'D', 'E')\n",
      "('B', 'E', 'A')\n",
      "('B', 'E', 'C')\n",
      "('B', 'E', 'D')\n",
      "('C', 'A', 'B')\n",
      "('C', 'A', 'D')\n",
      "('C', 'A', 'E')\n",
      "('C', 'B', 'A')\n",
      "('C', 'B', 'D')\n",
      "('C', 'B', 'E')\n",
      "('C', 'D', 'A')\n",
      "('C', 'D', 'B')\n",
      "('C', 'D', 'E')\n",
      "('C', 'E', 'A')\n",
      "('C', 'E', 'B')\n",
      "('C', 'E', 'D')\n",
      "('D', 'A', 'B')\n",
      "('D', 'A', 'C')\n",
      "('D', 'A', 'E')\n",
      "('D', 'B', 'A')\n",
      "('D', 'B', 'C')\n",
      "('D', 'B', 'E')\n",
      "('D', 'C', 'A')\n",
      "('D', 'C', 'B')\n",
      "('D', 'C', 'E')\n",
      "('D', 'E', 'A')\n",
      "('D', 'E', 'B')\n",
      "('D', 'E', 'C')\n",
      "('E', 'A', 'B')\n",
      "('E', 'A', 'C')\n",
      "('E', 'A', 'D')\n",
      "('E', 'B', 'A')\n",
      "('E', 'B', 'C')\n",
      "('E', 'B', 'D')\n",
      "('E', 'C', 'A')\n",
      "('E', 'C', 'B')\n",
      "('E', 'C', 'D')\n",
      "('E', 'D', 'A')\n",
      "('E', 'D', 'B')\n",
      "('E', 'D', 'C')\n",
      "\n",
      "Combinations (Length 4):\n",
      "('A', 'B', 'C', 'D')\n",
      "('A', 'B', 'C', 'E')\n",
      "('A', 'B', 'D', 'E')\n",
      "('A', 'C', 'D', 'E')\n",
      "('B', 'C', 'D', 'E')\n"
     ]
    }
   ],
   "source": [
    "from itertools import permutations, combinations\n",
    "\n",
    "# List A, B, C, D, E\n",
    "elements = ['A', 'B', 'C', 'D', 'E']\n",
    "\n",
    "# Computing permutations of length 3\n",
    "perm = list(permutations(elements, 3))\n",
    "print(\"Permutations (Length 3):\")\n",
    "for p in perm:\n",
    "    print(p)  # Corrected indentation\n",
    "\n",
    "# Computing combinations of length 4\n",
    "comb = list(combinations(elements, 4))\n",
    "print(\"\\nCombinations (Length 4):\")\n",
    "for c in comb:\n",
    "    print(c)  # Corrected indentation\n"
   ]
  },
  {
   "cell_type": "markdown",
   "id": "43e3dd3a-78bf-4ed1-8d9e-6fa29e5d5abf",
   "metadata": {},
   "source": [
    "## 4. Using the same list, use itertools to compute permutations and combinations\n",
    "This code computes all possible permutations of the list and combinations of length 3."
   ]
  },
  {
   "cell_type": "code",
   "execution_count": 30,
   "id": "df9eeaff-9766-4357-a21d-87b4e17d9807",
   "metadata": {},
   "outputs": [
    {
     "name": "stdout",
     "output_type": "stream",
     "text": [
      "All Permutations:\n",
      "('A', 'B', 'C', 'D', 'E')\n",
      "('A', 'B', 'C', 'E', 'D')\n",
      "('A', 'B', 'D', 'C', 'E')\n",
      "('A', 'B', 'D', 'E', 'C')\n",
      "('A', 'B', 'E', 'C', 'D')\n",
      "('A', 'B', 'E', 'D', 'C')\n",
      "('A', 'C', 'B', 'D', 'E')\n",
      "('A', 'C', 'B', 'E', 'D')\n",
      "('A', 'C', 'D', 'B', 'E')\n",
      "('A', 'C', 'D', 'E', 'B')\n",
      "('A', 'C', 'E', 'B', 'D')\n",
      "('A', 'C', 'E', 'D', 'B')\n",
      "('A', 'D', 'B', 'C', 'E')\n",
      "('A', 'D', 'B', 'E', 'C')\n",
      "('A', 'D', 'C', 'B', 'E')\n",
      "('A', 'D', 'C', 'E', 'B')\n",
      "('A', 'D', 'E', 'B', 'C')\n",
      "('A', 'D', 'E', 'C', 'B')\n",
      "('A', 'E', 'B', 'C', 'D')\n",
      "('A', 'E', 'B', 'D', 'C')\n",
      "('A', 'E', 'C', 'B', 'D')\n",
      "('A', 'E', 'C', 'D', 'B')\n",
      "('A', 'E', 'D', 'B', 'C')\n",
      "('A', 'E', 'D', 'C', 'B')\n",
      "('B', 'A', 'C', 'D', 'E')\n",
      "('B', 'A', 'C', 'E', 'D')\n",
      "('B', 'A', 'D', 'C', 'E')\n",
      "('B', 'A', 'D', 'E', 'C')\n",
      "('B', 'A', 'E', 'C', 'D')\n",
      "('B', 'A', 'E', 'D', 'C')\n",
      "('B', 'C', 'A', 'D', 'E')\n",
      "('B', 'C', 'A', 'E', 'D')\n",
      "('B', 'C', 'D', 'A', 'E')\n",
      "('B', 'C', 'D', 'E', 'A')\n",
      "('B', 'C', 'E', 'A', 'D')\n",
      "('B', 'C', 'E', 'D', 'A')\n",
      "('B', 'D', 'A', 'C', 'E')\n",
      "('B', 'D', 'A', 'E', 'C')\n",
      "('B', 'D', 'C', 'A', 'E')\n",
      "('B', 'D', 'C', 'E', 'A')\n",
      "('B', 'D', 'E', 'A', 'C')\n",
      "('B', 'D', 'E', 'C', 'A')\n",
      "('B', 'E', 'A', 'C', 'D')\n",
      "('B', 'E', 'A', 'D', 'C')\n",
      "('B', 'E', 'C', 'A', 'D')\n",
      "('B', 'E', 'C', 'D', 'A')\n",
      "('B', 'E', 'D', 'A', 'C')\n",
      "('B', 'E', 'D', 'C', 'A')\n",
      "('C', 'A', 'B', 'D', 'E')\n",
      "('C', 'A', 'B', 'E', 'D')\n",
      "('C', 'A', 'D', 'B', 'E')\n",
      "('C', 'A', 'D', 'E', 'B')\n",
      "('C', 'A', 'E', 'B', 'D')\n",
      "('C', 'A', 'E', 'D', 'B')\n",
      "('C', 'B', 'A', 'D', 'E')\n",
      "('C', 'B', 'A', 'E', 'D')\n",
      "('C', 'B', 'D', 'A', 'E')\n",
      "('C', 'B', 'D', 'E', 'A')\n",
      "('C', 'B', 'E', 'A', 'D')\n",
      "('C', 'B', 'E', 'D', 'A')\n",
      "('C', 'D', 'A', 'B', 'E')\n",
      "('C', 'D', 'A', 'E', 'B')\n",
      "('C', 'D', 'B', 'A', 'E')\n",
      "('C', 'D', 'B', 'E', 'A')\n",
      "('C', 'D', 'E', 'A', 'B')\n",
      "('C', 'D', 'E', 'B', 'A')\n",
      "('C', 'E', 'A', 'B', 'D')\n",
      "('C', 'E', 'A', 'D', 'B')\n",
      "('C', 'E', 'B', 'A', 'D')\n",
      "('C', 'E', 'B', 'D', 'A')\n",
      "('C', 'E', 'D', 'A', 'B')\n",
      "('C', 'E', 'D', 'B', 'A')\n",
      "('D', 'A', 'B', 'C', 'E')\n",
      "('D', 'A', 'B', 'E', 'C')\n",
      "('D', 'A', 'C', 'B', 'E')\n",
      "('D', 'A', 'C', 'E', 'B')\n",
      "('D', 'A', 'E', 'B', 'C')\n",
      "('D', 'A', 'E', 'C', 'B')\n",
      "('D', 'B', 'A', 'C', 'E')\n",
      "('D', 'B', 'A', 'E', 'C')\n",
      "('D', 'B', 'C', 'A', 'E')\n",
      "('D', 'B', 'C', 'E', 'A')\n",
      "('D', 'B', 'E', 'A', 'C')\n",
      "('D', 'B', 'E', 'C', 'A')\n",
      "('D', 'C', 'A', 'B', 'E')\n",
      "('D', 'C', 'A', 'E', 'B')\n",
      "('D', 'C', 'B', 'A', 'E')\n",
      "('D', 'C', 'B', 'E', 'A')\n",
      "('D', 'C', 'E', 'A', 'B')\n",
      "('D', 'C', 'E', 'B', 'A')\n",
      "('D', 'E', 'A', 'B', 'C')\n",
      "('D', 'E', 'A', 'C', 'B')\n",
      "('D', 'E', 'B', 'A', 'C')\n",
      "('D', 'E', 'B', 'C', 'A')\n",
      "('D', 'E', 'C', 'A', 'B')\n",
      "('D', 'E', 'C', 'B', 'A')\n",
      "('E', 'A', 'B', 'C', 'D')\n",
      "('E', 'A', 'B', 'D', 'C')\n",
      "('E', 'A', 'C', 'B', 'D')\n",
      "('E', 'A', 'C', 'D', 'B')\n",
      "('E', 'A', 'D', 'B', 'C')\n",
      "('E', 'A', 'D', 'C', 'B')\n",
      "('E', 'B', 'A', 'C', 'D')\n",
      "('E', 'B', 'A', 'D', 'C')\n",
      "('E', 'B', 'C', 'A', 'D')\n",
      "('E', 'B', 'C', 'D', 'A')\n",
      "('E', 'B', 'D', 'A', 'C')\n",
      "('E', 'B', 'D', 'C', 'A')\n",
      "('E', 'C', 'A', 'B', 'D')\n",
      "('E', 'C', 'A', 'D', 'B')\n",
      "('E', 'C', 'B', 'A', 'D')\n",
      "('E', 'C', 'B', 'D', 'A')\n",
      "('E', 'C', 'D', 'A', 'B')\n",
      "('E', 'C', 'D', 'B', 'A')\n",
      "('E', 'D', 'A', 'B', 'C')\n",
      "('E', 'D', 'A', 'C', 'B')\n",
      "('E', 'D', 'B', 'A', 'C')\n",
      "('E', 'D', 'B', 'C', 'A')\n",
      "('E', 'D', 'C', 'A', 'B')\n",
      "('E', 'D', 'C', 'B', 'A')\n",
      "\n",
      "Combinations (Length 3):\n",
      "('A', 'B', 'C')\n",
      "('A', 'B', 'D')\n",
      "('A', 'B', 'E')\n",
      "('A', 'C', 'D')\n",
      "('A', 'C', 'E')\n",
      "('A', 'D', 'E')\n",
      "('B', 'C', 'D')\n",
      "('B', 'C', 'E')\n",
      "('B', 'D', 'E')\n",
      "('C', 'D', 'E')\n"
     ]
    }
   ],
   "source": [
    "from itertools import permutations, combinations\n",
    "\n",
    "# List A, B, C, D, E\n",
    "elements = ['A', 'B', 'C', 'D', 'E']\n",
    "\n",
    "# Computing all permutations\n",
    "perm = list(permutations(elements))\n",
    "print(\"All Permutations:\")\n",
    "for p in perm:\n",
    "    print(p)  # Corrected indentation\n",
    "\n",
    "# Computing combinations of length 3\n",
    "comb = list(combinations(elements, 3))\n",
    "print(\"\\nCombinations (Length 3):\")\n",
    "for c in comb:\n",
    "    print(c)  # Corrected indentation\n"
   ]
  },
  {
   "cell_type": "code",
   "execution_count": null,
   "id": "8022ec24-94a9-49f1-b36c-91de4c887fdf",
   "metadata": {},
   "outputs": [],
   "source": []
  }
 ],
 "metadata": {
  "kernelspec": {
   "display_name": "Python 3 (ipykernel)",
   "language": "python",
   "name": "python3"
  },
  "language_info": {
   "codemirror_mode": {
    "name": "ipython",
    "version": 3
   },
   "file_extension": ".py",
   "mimetype": "text/x-python",
   "name": "python",
   "nbconvert_exporter": "python",
   "pygments_lexer": "ipython3",
   "version": "3.12.4"
  }
 },
 "nbformat": 4,
 "nbformat_minor": 5
}
